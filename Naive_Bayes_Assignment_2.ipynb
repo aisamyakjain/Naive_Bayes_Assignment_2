{
 "cells": [
  {
   "cell_type": "markdown",
   "id": "bc10adf4-eef1-48d8-bb0b-9d88fae9b8f6",
   "metadata": {},
   "source": [
    "Q1. What is the difference between Bernoulli Naive Bayes and Multinomial Naive Bayes\n",
    "\n",
    "Answer: The main difference between Bernoulli Naive Bayes and Multinomial Naive Bayes lies in the handling of feature values. Bernoulli NB works with binary features (0s and 1s), while Multinomial NB accommodates discrete feature counts."
   ]
  },
  {
   "cell_type": "markdown",
   "id": "ce97d4d4-565f-4637-8c79-b7e5f80e5fe1",
   "metadata": {},
   "source": [
    "Q2. How does Bernoulli Naive Bayes handle missing values?\n",
    "\n",
    "Answer: Bernoulli Naive Bayes assumes that missing values are indicative of the absence of a feature and treats them as a separate category, allowing them to influence the classification decision."
   ]
  },
  {
   "cell_type": "markdown",
   "id": "a126a562-f13b-483a-9417-09d1814e79d0",
   "metadata": {},
   "source": [
    "Q3. Can Gaussian Naive Bayes be used for multi-class classification in 25 words\n",
    "\n",
    "Answer: Yes, Gaussian Naive Bayes can be used for multi-class classification by extending the model to handle multiple classes using techniques like one-vs-rest or one-vs-one strategies."
   ]
  },
  {
   "cell_type": "code",
   "execution_count": null,
   "id": "4ea1ce56-f01a-48d8-8716-4fbd96904757",
   "metadata": {},
   "outputs": [],
   "source": []
  }
 ],
 "metadata": {
  "kernelspec": {
   "display_name": "Python 3 (ipykernel)",
   "language": "python",
   "name": "python3"
  },
  "language_info": {
   "codemirror_mode": {
    "name": "ipython",
    "version": 3
   },
   "file_extension": ".py",
   "mimetype": "text/x-python",
   "name": "python",
   "nbconvert_exporter": "python",
   "pygments_lexer": "ipython3",
   "version": "3.10.6"
  }
 },
 "nbformat": 4,
 "nbformat_minor": 5
}
